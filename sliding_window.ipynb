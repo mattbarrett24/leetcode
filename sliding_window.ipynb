{
 "cells": [
  {
   "cell_type": "markdown",
   "metadata": {},
   "source": [
    "Sliding window alogirthm is used to solve problems that involve defining a range of values in the input data (list or string) and then moving that window of values across the data to perform some operation. Typically this is done using two poniter, left and right, to define the window of operation and moving these pointers across the data set to compare all values without having to use nested loops to iterate through the list multiple times. This reducing time complexity from $O(N^2)$ to $O(N)$. This can be used to find subarrays with a specific sum, finding longest substrings with unqiue characters, or just for problems that require processing a specific range of a dataset at a time."
   ]
  }
 ],
 "metadata": {
  "language_info": {
   "name": "python"
  }
 },
 "nbformat": 4,
 "nbformat_minor": 2
}

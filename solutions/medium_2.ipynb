{
 "cells": [
  {
   "cell_type": "markdown",
   "metadata": {},
   "source": [
    "You are given two non-empty linked lists representing two non-negative integers. The digits are stored in reverse order, and each of their nodes contains a single digit. Add the two numbers and return the sum as a linked list.\n",
    "\n",
    "You may assume the two numbers do not contain any leading zero, except the number 0 itself.\n",
    "\n",
    " \n",
    "\n",
    "Example 1:\n",
    "\n",
    "\n",
    "Input: l1 = [2,4,3], l2 = [5,6,4]\\\n",
    "Output: [7,0,8]\\\n",
    "Explanation: 342 + 465 = 807.\n",
    "\n",
    "Example 2:\n",
    "\n",
    "Input: l1 = [0], l2 = [0]\\\n",
    "Output: [0]\n",
    "\n",
    "Example 3:\n",
    "\n",
    "Input: l1 = [9,9,9,9,9,9,9], l2 = [9,9,9,9]\\\n",
    "Output: [8,9,9,9,0,0,0,1]\n",
    "\n",
    "Constraints:\n",
    "\n",
    "The number of nodes in each linked list is in the range [1, 100].\\\n",
    "0 <= Node.val <= 9\\\n",
    "It is guaranteed that the list represents a number that does not have leading zeros."
   ]
  },
  {
   "cell_type": "code",
   "execution_count": 14,
   "metadata": {},
   "outputs": [
    {
     "name": "stdout",
     "output_type": "stream",
     "text": [
      "<__main__.list_node object at 0x000001F752AF18E0>\n"
     ]
    }
   ],
   "source": [
    "from typing import Optional\n",
    "class list_node:\n",
    "    def __init__(self, val=0, next=None):\n",
    "        self.val = val\n",
    "        self.next = next\n",
    "\n",
    "def add_two_numbers(l1: Optional[list_node], l2: Optional[list_node]) -> Optional[list_node]:\n",
    "    result = list_node() #dummy node\n",
    "    current = result #pointer node\n",
    "    carry = 0\n",
    "\n",
    "    while l1 or l2 or carry: #repeat until both node lists have been finished and there are no carry over values\n",
    "        l1_digit = l1.val if l1 else 0\n",
    "        l2_digit = l2.val if l2 else 0\n",
    "\n",
    "        total = l1_digit + l2_digit + carry\n",
    "        current.next = list_node(total % 10) #find the single digit to add to the result node\n",
    "        carry = total // 10 #find the carry over value, integer divide in this context will return 0 <10, 1 >10\n",
    "\n",
    "        l1 = l1.next if l1 else None\n",
    "        l2 = l2.next if l2 else None\n",
    "        current = current.next\n",
    "\n",
    "    return result.next #returns the list without the trailing zero that's in current\n",
    "\n",
    "\n",
    "\n",
    "l1 = list_node(2)\n",
    "l1.next = list_node(4)\n",
    "l1.next.next = list_node(3)\n",
    "\n",
    "l2 = list_node(5)\n",
    "l2.next = list_node(6)\n",
    "l2.next.next = list_node(4)\n",
    "\n",
    "ans = add_two_numbers(l1, l2)\n",
    "\n",
    "print(ans)\n"
   ]
  },
  {
   "cell_type": "code",
   "execution_count": 4,
   "metadata": {},
   "outputs": [
    {
     "name": "stdout",
     "output_type": "stream",
     "text": [
      "3\n"
     ]
    }
   ],
   "source": [
    "class list_node:\n",
    "    def __init__(self, val=0, next=None):\n",
    "        self.val = val\n",
    "        self.next = next\n",
    "\n",
    "l1 = list_node(2)\n",
    "l1.next = list_node(4)\n",
    "l1.next.next = list_node(3)\n",
    "\n",
    "l2 = l1.next.next\n",
    "print(l2.val)"
   ]
  }
 ],
 "metadata": {
  "kernelspec": {
   "display_name": "Python 3",
   "language": "python",
   "name": "python3"
  },
  "language_info": {
   "codemirror_mode": {
    "name": "ipython",
    "version": 3
   },
   "file_extension": ".py",
   "mimetype": "text/x-python",
   "name": "python",
   "nbconvert_exporter": "python",
   "pygments_lexer": "ipython3",
   "version": "3.12.2"
  }
 },
 "nbformat": 4,
 "nbformat_minor": 2
}

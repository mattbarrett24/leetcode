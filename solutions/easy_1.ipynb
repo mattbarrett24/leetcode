{
 "cells": [
  {
   "cell_type": "markdown",
   "metadata": {},
   "source": [
    "Given an array of integers nums and an integer target, return indices of the two numbers such that they add up to target.\n",
    "\n",
    "You may assume that each input would have exactly one solution, and you may not use the same element twice.\n",
    "\n",
    "You can return the answer in any order.\n",
    "\n",
    " \n",
    "\n",
    "Example 1:\\\n",
    "Input: nums = [2,7,11,15], target = 9\\\n",
    "Output: [0,1]\\\n",
    "Explanation: Because nums[0] + nums[1] == 9, we return [0, 1].\n",
    "\n",
    "\n",
    "Example 2:\\\n",
    "Input: nums = [3,2,4], target = 6\\\n",
    "Output: [1,2]\n",
    "\n",
    "\n",
    "Example 3:\\\n",
    "Input: nums = [3,3], target = 6\\\n",
    "Output: [0,1]\n",
    " \n",
    "\n",
    "Constraints:\\\n",
    "2 <= nums.length <= 104\\\n",
    "-109 <= nums[i] <= 109\\\n",
    "-109 <= target <= 109\\\n",
    "Only one valid answer exists."
   ]
  },
  {
   "cell_type": "code",
   "execution_count": 17,
   "metadata": {},
   "outputs": [
    {
     "name": "stdout",
     "output_type": "stream",
     "text": [
      "[1, 2]\n"
     ]
    }
   ],
   "source": [
    "def two_sum_inefficient(nums: list[int], target: int) -> list[int]:\n",
    "    for i in range(len(nums)-1):\n",
    "        for j in range(i+1, len(nums)):\n",
    "            if nums[i] + nums[j] == target:\n",
    "                return [i,j]\n",
    "            \n",
    "\n",
    "print(two_sum_inefficient([3,2,4], 6))"
   ]
  },
  {
   "cell_type": "markdown",
   "metadata": {},
   "source": [
    "Although this method does find the solution it is inefficient as the nested loops rest in $O(n^2)$ complexity, making larger lists very long to execute.\n",
    "\n",
    "The more efficient solution is using a hash table. This is essentially creating a dictionary for each value in the list, with the key being the value of the item in the list, and the value being the positition in the list. e.g. list ['a','b','c'] -> hashMap {'a':1, 'b':2, 'c':3}. This allows a single iteration through the table, comparing the (target - current value in the list) to the values stored in the hash table. If the value does exist, then that has table value and the current list value are the pair of numbers that produce the target. Given the solution states there is only one correct pair to reach the target, this solution works much more efficiently. By only giving a single iteration through the list, this means the time complexity is reduced to $O(n)$"
   ]
  },
  {
   "cell_type": "code",
   "execution_count": 18,
   "metadata": {},
   "outputs": [
    {
     "name": "stdout",
     "output_type": "stream",
     "text": [
      "[2, 1]\n"
     ]
    }
   ],
   "source": [
    "def two_sum_efficient(nums: list[int], target: int) -> list[int]:\n",
    "    num_map = {}\n",
    "\n",
    "    for i in range(len(nums)):\n",
    "        diff = target - nums[i]\n",
    "        if diff in num_map:\n",
    "            return [i, num_map[diff]]\n",
    "        num_map[nums[i]] = i\n",
    "\n",
    "ans = two_sum_efficient([3,2,4], 6)\n",
    "print(ans)\n",
    "\n"
   ]
  }
 ],
 "metadata": {
  "kernelspec": {
   "display_name": "Python 3",
   "language": "python",
   "name": "python3"
  },
  "language_info": {
   "codemirror_mode": {
    "name": "ipython",
    "version": 3
   },
   "file_extension": ".py",
   "mimetype": "text/x-python",
   "name": "python",
   "nbconvert_exporter": "python",
   "pygments_lexer": "ipython3",
   "version": "3.12.2"
  }
 },
 "nbformat": 4,
 "nbformat_minor": 2
}

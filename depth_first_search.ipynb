{
 "cells": [
  {
   "cell_type": "markdown",
   "metadata": {},
   "source": [
    "Depth First Search (DFS) is an algorithm to search all the vertices of a tree data structure. The purpose is to visit each of the vertices of a graph without any cycles, therefore not revisiting nodes.\n",
    "\n",
    "                                     /--1--\\\n",
    "                                    2   3   4\n",
    "                                    5       6\n",
    "                                    7\n",
    "\n",
    "\n",
    "Take the tree strcuture above, the search will start at the root node 1 and add each of the adjacent vertices 2,3 & 4 to a stack. \n",
    "\n",
    "*visited* 1 \\\n",
    "*stack* 4, 3, 2\n",
    "\n",
    "The top of the stack will be viewed first, so vertex 2 (which is added to the visited stack), and it's adjacent vertex 5 will be added to the top of the stack. \n",
    "\n",
    "*visited* 1, 2 \\\n",
    "*stack* 4, 3, 5\n",
    "\n",
    "As vertex 5 is at the top, this will be viewed next, adding 5 to the visited stack and adding 7 to the top of the stack.\n",
    "\n",
    "*visited* 1, 2, 5\\\n",
    "*stack* 4, 3, 7\n",
    "\n",
    " This is then viewed next, seeing no remaining adjacent vertices that aren't already in the visited stack, 7 will be added to visited \n",
    "\n",
    "*visited* 1, 2, 5, 7 \\\n",
    "*stack* 4, 3\n",
    "\n",
    "Now vertex 3 can be viewed, which has no unvisited adjacent vertices, so no new data is added to the stack\n",
    "\n",
    "*visited* 1, 2, 5, 7, 3 \\\n",
    "*stack* 4\n",
    "\n",
    "Leaving vertex 4 to be visited, which is adjacent to unvisited vertex 6, and therefore is added to the top of the stack.\n",
    "\n",
    "*visited* 1, 2, 5, 7, 3, 4 \\\n",
    "*stack* 6\n",
    "\n",
    "Finally meaning 6 is viewed, with no unvisited adjacent verticies. Resulting in an empty stack and the algorithm is finished\n",
    "\n",
    "*visited* 1, 2, 5, 7, 3, 4, 6 \\\n",
    "*stack*\n"
   ]
  },
  {
   "cell_type": "markdown",
   "metadata": {},
   "source": [
    "The above example is a 'Preorder' DFS in the context of binary trees. We can use  this for finding the longest route of a binary tree by evaulating each level of the binary tree, until we reach the last nodes in the tree. The main difference here is we will also store the depth level of each vertex as we traverse the binary tree. The highest depth number will show the longest number of vertices in a single path from root to leaf \n",
    "\n",
    "This is O(n) complexity\n",
    "\n",
    "class TreeNode is used here to define the binary tree structure, where you can add a node and add the left and right nodes of each parent node to create the tree"
   ]
  },
  {
   "cell_type": "code",
   "execution_count": 8,
   "metadata": {},
   "outputs": [],
   "source": [
    "class TreeNode:\n",
    "    def __init__(self, val=0, left=None, right=None) -> None:\n",
    "          self.val = val\n",
    "          self.left = left\n",
    "          self.right = right\n",
    "\n",
    "\n",
    "def max_depth_iterative(root:TreeNode) -> int:\n",
    "        stack = [[root, 1]]\n",
    "        highest_depth = 0\n",
    "\n",
    "        while stack:\n",
    "            node, depth = stack.pop()\n",
    "\n",
    "            if node: #in the case of a node not having a child at a depth other nodes have a child, the result will be null\n",
    "                highest_depth = max(highest_depth, depth) #store new highest depth if present\n",
    "                stack.append([node.left, depth + 1])\n",
    "                stack.append([node.right, depth + 1])\n",
    "\n",
    "        return highest_depth"
   ]
  },
  {
   "cell_type": "code",
   "execution_count": 9,
   "metadata": {},
   "outputs": [
    {
     "name": "stdout",
     "output_type": "stream",
     "text": [
      "3\n"
     ]
    }
   ],
   "source": [
    "root = TreeNode(1)\n",
    "root.left = TreeNode(9)\n",
    "root.right = TreeNode(20)\n",
    "root.right.left = TreeNode(15)\n",
    "root.right.right = TreeNode(7)\n",
    "res = max_depth_iterative(root)\n",
    "print(res)"
   ]
  },
  {
   "cell_type": "markdown",
   "metadata": {},
   "source": [
    "This method can be futher simplified in code, using a recursive DFS implimentation. Here we reference the function within itself to recursively evaluate the path (left or right) with a child item until the end is reached and return the depth at which that final node it at."
   ]
  },
  {
   "cell_type": "code",
   "execution_count": 10,
   "metadata": {},
   "outputs": [],
   "source": [
    "def max_depth_recursive(root: TreeNode) -> int:\n",
    "    if not root: #incase of empty tree\n",
    "        return 0\n",
    "    \n",
    "    return 1 + max(max_depth_recursive(root.left), max_depth_recursive(root.right))"
   ]
  },
  {
   "cell_type": "code",
   "execution_count": 11,
   "metadata": {},
   "outputs": [
    {
     "name": "stdout",
     "output_type": "stream",
     "text": [
      "3\n"
     ]
    }
   ],
   "source": [
    "res = max_depth_recursive(root)\n",
    "print(res)"
   ]
  },
  {
   "cell_type": "markdown",
   "metadata": {},
   "source": [
    " - The first recursion will take the root, this exists and therefore will run the second return statement.\n",
    " - This will rerun the code from the input of root.left (9) & root.right (20). Looking at root.left first, this exists so will use the second return statement\n",
    " - This will then run the function with the input root.left.left, this is a null value so will return 0. Similarly with input root.left.right this will return 0 as the node is null\n",
    " - Therefore the return value from the function with input root.left will return 1 + max(root.left.left=0, root.left.right=0) which is 1 + 0. Giving root.left a value of 1\n",
    " - Next root.right (20) is used as an input to the function, this is non-null and will use the second return statement. Therefore use the function with inputs root.right.left (15) and root.right.right (7)\n",
    " - With root.right.left, this is non-null and will trigger function runs with root.right.left.left & root.right.left.right. Both of these are null values and will return 0\n",
    " - The same process will happen with root.right.right, this node also has no children \n",
    " - So for the input root.right the return statement will be 1 + max(root.right.left=1, root.right.right=1), therefore 1 + 1. Returning a value of two to the first recursion of the function with the root input\n",
    " - So finally, the return statement will look as 1 + max(root.left=1, root.right=2), which will return the final longest depth of the tree value as 3\n",
    "\n",
    "*simple as that*\n",
    "\n",
    "This solution has the same time complexity, but will most likely run a little more efficiently\n",
    " "
   ]
  }
 ],
 "metadata": {
  "kernelspec": {
   "display_name": "Python 3",
   "language": "python",
   "name": "python3"
  },
  "language_info": {
   "codemirror_mode": {
    "name": "ipython",
    "version": 3
   },
   "file_extension": ".py",
   "mimetype": "text/x-python",
   "name": "python",
   "nbconvert_exporter": "python",
   "pygments_lexer": "ipython3",
   "version": "3.12.2"
  }
 },
 "nbformat": 4,
 "nbformat_minor": 2
}

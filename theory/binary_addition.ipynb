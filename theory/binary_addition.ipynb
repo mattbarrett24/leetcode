{
 "cells": [
  {
   "cell_type": "markdown",
   "metadata": {},
   "source": [
    "Binary addition consists of two possible outcomes at each position, 1 or 0. 0+0 or 1+1 will result in a 0 at that position (1+1 will result in carry over a 1 to the next position) and 1+0 or 1+1+1(from carry over) will result in 1 at that position (1+1+1 will mean another 1 carry over to the next position) where all addition is taking place from the right most position of the two numbers. As an example 110 + 111 would result in 1101\n",
    "\n",
    "This algorithm is O(n)"
   ]
  },
  {
   "cell_type": "code",
   "execution_count": 10,
   "metadata": {},
   "outputs": [],
   "source": [
    "def add_binary(a:str, b:str) -> str:\n",
    "    res = \"\"\n",
    "    carry = 0 #to store any carry over values to be evaluated at the next position\n",
    "\n",
    "    a, b = a[::-1], b[::-1] #evaluated from the RHS therefore reverse both strings\n",
    "\n",
    "    for i in range(max(len(a), len(b))): #takes the largest length of the two lists\n",
    "        digitA = int(a[i]) if i < len(a) else 0 #accounts for the case where the string position is out of bounds for either\n",
    "        digitB = int(b[i]) if i < len(b) else 0 #as well as casts value to integer\n",
    "\n",
    "        total = digitA + digitB + carry\n",
    "        # res += str(total % 2) #binary is base2 so gives the final value at that position\n",
    "        carry = total // 2 #integer divide to give 0 for totals 0 - 2 and 1 for total of 3\n",
    "\n",
    "    if carry: #once all is computed the final carry value needs to be accounted for if it's non-zero\n",
    "        res += \"1\"\n",
    "    return res[::-1] #final result is still backwards, so needs to be returned reversed"
   ]
  },
  {
   "cell_type": "code",
   "execution_count": 11,
   "metadata": {},
   "outputs": [
    {
     "data": {
      "text/plain": [
       "'100'"
      ]
     },
     "execution_count": 11,
     "metadata": {},
     "output_type": "execute_result"
    }
   ],
   "source": [
    "add_binary(\"11\", \"1\")\n",
    "#4,118"
   ]
  },
  {
   "cell_type": "markdown",
   "metadata": {},
   "source": [
    "NOTE: in python you can convert numbers using int() with a base variable e.g. int(111,2) and then use python's built-in binary function bin() to add the two together"
   ]
  }
 ],
 "metadata": {
  "kernelspec": {
   "display_name": "Python 3",
   "language": "python",
   "name": "python3"
  },
  "language_info": {
   "codemirror_mode": {
    "name": "ipython",
    "version": 3
   },
   "file_extension": ".py",
   "mimetype": "text/x-python",
   "name": "python",
   "nbconvert_exporter": "python",
   "pygments_lexer": "ipython3",
   "version": "3.12.2"
  }
 },
 "nbformat": 4,
 "nbformat_minor": 2
}

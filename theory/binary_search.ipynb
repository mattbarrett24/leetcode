{
 "cells": [
  {
   "cell_type": "markdown",
   "metadata": {},
   "source": [
    "Binary search is a search algorithm that finds a target value in a **sorted** list, with O(log n) runtime complexity\n",
    "\n",
    "The method works by asserting the middle value of the list to the target value and determining if this is the target value. If not, the list will be split in half and removing the half that cannot contain the target value. The new half sized list will have the middle value asserted to the target again and the process repeated till the target is found or the list in of 0 size.\n",
    "\n",
    "This is a quicker search algorithm than a linear search (check each value in an unorder list), however does require the list sorted beforehand\n",
    "\n",
    "The algorithm is O(log n) as each iteration of the loop will reduce the amount of values in half (e.g. 16->8->4->2) meaning for 16 input values (n=16), there will be a possible $log_2 16$ iterations giving the value 4"
   ]
  },
  {
   "cell_type": "markdown",
   "metadata": {},
   "source": [
    "Can code the solution using a left pointer $l$ and a right pointer $r$ to indicate the start and ends of the list section, as well as a middle pointer $m$ to indicate the middle of the list section.\n",
    "\n",
    "Then use a while loop to assert the middle value of the list with 3 options:\n",
    " - if the middle value is more than the target, adjust the right pointer to be one less than the current middle, to look at the first half of the list\n",
    " - if the middle value is less than the target, adjust the left pointer to be one more than the current middle, to look at the second half of the list\n",
    " - if the middle value is the same as the target, the solution is found and return the middle position value\n",
    "\n",
    "This will loop until the left pointer is less than or equal to the right pointer, indicating there is zero remaining values in the list subsection and return a -1 to show the value was not in the list"
   ]
  },
  {
   "cell_type": "code",
   "execution_count": 21,
   "metadata": {},
   "outputs": [],
   "source": [
    "\n",
    "def binary_search(nums: list[int], target: int) -> int:\n",
    "    l, r = 0, len(nums) - 1\n",
    "\n",
    "    while l <= r:\n",
    "        m = (l+r) // 2\n",
    "        if nums[m] > target:\n",
    "            r = m - 1\n",
    "        elif nums[m] < target:\n",
    "            l = m + 1\n",
    "        else:\n",
    "            return m\n",
    "    return -1"
   ]
  },
  {
   "cell_type": "code",
   "execution_count": 31,
   "metadata": {},
   "outputs": [
    {
     "data": {
      "text/plain": [
       "4"
      ]
     },
     "execution_count": 31,
     "metadata": {},
     "output_type": "execute_result"
    }
   ],
   "source": [
    "nums = [-4,-3,0,1,3,4,7,12,15,99]\n",
    "binary_search(nums, 3)"
   ]
  }
 ],
 "metadata": {
  "kernelspec": {
   "display_name": "Python 3",
   "language": "python",
   "name": "python3"
  },
  "language_info": {
   "codemirror_mode": {
    "name": "ipython",
    "version": 3
   },
   "file_extension": ".py",
   "mimetype": "text/x-python",
   "name": "python",
   "nbconvert_exporter": "python",
   "pygments_lexer": "ipython3",
   "version": "3.12.2"
  }
 },
 "nbformat": 4,
 "nbformat_minor": 2
}
